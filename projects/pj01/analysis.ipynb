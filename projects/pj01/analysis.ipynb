{
 "cells": [
  {
   "cell_type": "markdown",
   "metadata": {},
   "source": [
    "# PJ01 - Choose Your Own Analysis"
   ]
  },
  {
   "cell_type": "code",
   "execution_count": 36,
   "metadata": {},
   "outputs": [],
   "source": [
    "__author__ = \"730395347\""
   ]
  },
  {
   "cell_type": "markdown",
   "metadata": {},
   "source": [
    "# Hypothesis: Are students who come to office hours more likely to recommend the course?\n",
    "\n",
    "In this case, I need to compare the course recommendations of students who don't attend office hours and the course recommendations of students who do attend office hours."
   ]
  },
  {
   "cell_type": "markdown",
   "metadata": {},
   "source": [
    "## Prediction\n",
    "\n",
    "I think that students who go to office hours in general are more likely to recommend the course. "
   ]
  },
  {
   "cell_type": "code",
   "execution_count": 37,
   "metadata": {},
   "outputs": [],
   "source": [
    "%reload_ext autoreload\n",
    "%autoreload 2"
   ]
  },
  {
   "cell_type": "markdown",
   "metadata": {},
   "source": [
    "First I will be changing the data into a column-oriented table so it will be easier to find the values associated with course recommendations and the students who have attended office hours sections. I also think it would be interesting to see how often the average student in this course attends office hours and to see if the average student would recommend this course. To find this, it would be easier to put the data into a column-oriented table. "
   ]
  },
  {
   "cell_type": "code",
   "execution_count": 38,
   "metadata": {},
   "outputs": [],
   "source": [
    "DATA_DIRECTORY=\"../../data\"\n",
    "DATA_FILE_PATH=f\"{DATA_DIRECTORY}/survey.csv\""
   ]
  },
  {
   "cell_type": "markdown",
   "metadata": {},
   "source": [
    "The purpose of the code cell above is create a reference to the survey data set that will be used throughout the rest of the code in the notebook. "
   ]
  },
  {
   "cell_type": "code",
   "execution_count": 39,
   "metadata": {},
   "outputs": [
    {
     "name": "stdout",
     "output_type": "stream",
     "text": [
      "Data File Read: ../../data/survey.csv\n",
      "573 rows\n",
      "36 columns\n",
      "Columns names: dict_keys(['row_number', 'year', 'unc_status', 'comp_major', 'primary_major', 'data_science', 'prereqs', 'prior_exp', 'AP_Principles', 'AP_A', 'other_comp', 'prior_time', 'languages', 'section', 'in_person_classes', 'hours_online_social', 'hours_online_work', 'lesson_time', 'sync_perf', 'all_sync', 'own_notes', 'own_examples', 'oh_visits', 'ls_effective', 'lsqs_effective', 'programming_effective', 'qz_effective', 'oh_effective', 'tutoring_effective', 'kaki_effective', 'pace', 'difficulty', 'understanding', 'interesting', 'valuable', 'would_recommend'])\n"
     ]
    }
   ],
   "source": [
    "from data_utils import read_csv_rows\n",
    "data_rows: list[dict[str, str]] = read_csv_rows(DATA_FILE_PATH)\n",
    "\n",
    "if len(data_rows) == 0:\n",
    "    print(\"Go implement read_csv_rows in data_utils.py\")\n",
    "    print(\"Be sure to save your work before re-evaluating this cell!\")\n",
    "else:\n",
    "    print(f\"Data File Read: {DATA_FILE_PATH}\")\n",
    "    print(f\"{len(data_rows)} rows\")\n",
    "    print(f\"{len(data_rows[0].keys())} columns\")\n",
    "    print(f\"Columns names: {data_rows[0].keys()}\")"
   ]
  },
  {
   "cell_type": "markdown",
   "metadata": {},
   "source": [
    "The purpose of the code cell above is to implement the utility functions that will read the CSV file."
   ]
  },
  {
   "cell_type": "code",
   "execution_count": 40,
   "metadata": {},
   "outputs": [
    {
     "name": "stdout",
     "output_type": "stream",
     "text": [
      "36 columns\n",
      "Columns names: dict_keys(['row_number', 'year', 'unc_status', 'comp_major', 'primary_major', 'data_science', 'prereqs', 'prior_exp', 'AP_Principles', 'AP_A', 'other_comp', 'prior_time', 'languages', 'section', 'in_person_classes', 'hours_online_social', 'hours_online_work', 'lesson_time', 'sync_perf', 'all_sync', 'own_notes', 'own_examples', 'oh_visits', 'ls_effective', 'lsqs_effective', 'programming_effective', 'qz_effective', 'oh_effective', 'tutoring_effective', 'kaki_effective', 'pace', 'difficulty', 'understanding', 'interesting', 'valuable', 'would_recommend'])\n"
     ]
    }
   ],
   "source": [
    "from data_utils import columnar\n",
    "\n",
    "data_cols: dict[str, list[str]] = columnar(data_rows)\n",
    "\n",
    "if len(data_cols.keys()) == 0:\n",
    "    print(\"Complete your implementation of columnar in data_utils.py\")\n",
    "    print(\"Be sure to follow the guidelines above and save your work before re-evaluating!\")\n",
    "else:\n",
    "    print(f\"{len(data_cols.keys())} columns\")\n",
    "    print(f\"Columns names: {data_cols.keys()}\")"
   ]
  },
  {
   "cell_type": "markdown",
   "metadata": {},
   "source": [
    "The purpose of the cell above is to take a dictionary that is row-oriented and change it into a column-oriented dictionary. It is a lot easier to find values that are associated with a particular column. Now we find what variables to look for. "
   ]
  },
  {
   "cell_type": "code",
   "execution_count": 41,
   "metadata": {},
   "outputs": [
    {
     "data": {
      "text/html": [
       "<table>\n",
       "<thead>\n",
       "<tr><th style=\"text-align: right;\">  row_number</th><th style=\"text-align: right;\">  year</th><th>unc_status           </th><th>comp_major  </th><th>primary_major                   </th><th>data_science  </th><th>prereqs                                          </th><th>prior_exp                   </th><th>AP_Principles  </th><th>AP_A  </th><th>other_comp  </th><th>prior_time  </th><th>languages  </th><th>section  </th><th>in_person_classes  </th><th>hours_online_social  </th><th>hours_online_work  </th><th style=\"text-align: right;\">  lesson_time</th><th style=\"text-align: right;\">  sync_perf</th><th style=\"text-align: right;\">  all_sync</th><th style=\"text-align: right;\">  own_notes</th><th style=\"text-align: right;\">  own_examples</th><th style=\"text-align: right;\">  oh_visits</th><th style=\"text-align: right;\">  ls_effective</th><th style=\"text-align: right;\">  lsqs_effective</th><th style=\"text-align: right;\">  programming_effective</th><th style=\"text-align: right;\">  qz_effective</th><th>oh_effective  </th><th>tutoring_effective  </th><th>kaki_effective  </th><th style=\"text-align: right;\">  pace</th><th style=\"text-align: right;\">  difficulty</th><th style=\"text-align: right;\">  understanding</th><th style=\"text-align: right;\">  interesting</th><th style=\"text-align: right;\">  valuable</th><th style=\"text-align: right;\">  would_recommend</th></tr>\n",
       "</thead>\n",
       "<tbody>\n",
       "<tr><td style=\"text-align: right;\">           0</td><td style=\"text-align: right;\">    23</td><td>Returning UNC Student</td><td>No          </td><td>Advertising and Public Relations</td><td>No            </td><td>MATH 129P, MATH 130                              </td><td>None to less than one month!</td><td>               </td><td>      </td><td>            </td><td>            </td><td>           </td><td>In-Person</td><td>                   </td><td>3 to 5 hours         </td><td>3 to 5 hours       </td><td style=\"text-align: right;\">            5</td><td style=\"text-align: right;\">          2</td><td style=\"text-align: right;\">         2</td><td style=\"text-align: right;\">          4</td><td style=\"text-align: right;\">             2</td><td style=\"text-align: right;\">          2</td><td style=\"text-align: right;\">             7</td><td style=\"text-align: right;\">               6</td><td style=\"text-align: right;\">                      6</td><td style=\"text-align: right;\">             5</td><td>5             </td><td>                    </td><td>3               </td><td style=\"text-align: right;\">     5</td><td style=\"text-align: right;\">           5</td><td style=\"text-align: right;\">              4</td><td style=\"text-align: right;\">            5</td><td style=\"text-align: right;\">         6</td><td style=\"text-align: right;\">                7</td></tr>\n",
       "<tr><td style=\"text-align: right;\">           1</td><td style=\"text-align: right;\">    24</td><td>Returning UNC Student</td><td>No          </td><td>Anthropology                    </td><td>No            </td><td>MATH 129P, MATH 231                              </td><td>None to less than one month!</td><td>               </td><td>      </td><td>            </td><td>            </td><td>           </td><td>In-Person</td><td>                   </td><td>5 to 10 hours        </td><td>5 to 10 hours      </td><td style=\"text-align: right;\">            4</td><td style=\"text-align: right;\">          5</td><td style=\"text-align: right;\">         4</td><td style=\"text-align: right;\">          7</td><td style=\"text-align: right;\">             6</td><td style=\"text-align: right;\">          0</td><td style=\"text-align: right;\">             6</td><td style=\"text-align: right;\">               5</td><td style=\"text-align: right;\">                      7</td><td style=\"text-align: right;\">             5</td><td>              </td><td>                    </td><td>6               </td><td style=\"text-align: right;\">     5</td><td style=\"text-align: right;\">           3</td><td style=\"text-align: right;\">              7</td><td style=\"text-align: right;\">            7</td><td style=\"text-align: right;\">         7</td><td style=\"text-align: right;\">                7</td></tr>\n",
       "<tr><td style=\"text-align: right;\">           2</td><td style=\"text-align: right;\">    23</td><td>Returning UNC Student</td><td>No          </td><td>Biology                         </td><td>No            </td><td>MATH 231, MATH 232, MATH 233, MATH 381           </td><td>None to less than one month!</td><td>               </td><td>      </td><td>            </td><td>            </td><td>           </td><td>Remote   </td><td>Yes                </td><td>3 to 5 hours         </td><td>5 to 10 hours      </td><td style=\"text-align: right;\">            2</td><td style=\"text-align: right;\">          1</td><td style=\"text-align: right;\">         1</td><td style=\"text-align: right;\">          7</td><td style=\"text-align: right;\">             6</td><td style=\"text-align: right;\">          0</td><td style=\"text-align: right;\">             7</td><td style=\"text-align: right;\">               7</td><td style=\"text-align: right;\">                      7</td><td style=\"text-align: right;\">             7</td><td>              </td><td>                    </td><td>                </td><td style=\"text-align: right;\">     5</td><td style=\"text-align: right;\">           5</td><td style=\"text-align: right;\">              6</td><td style=\"text-align: right;\">            7</td><td style=\"text-align: right;\">         7</td><td style=\"text-align: right;\">                7</td></tr>\n",
       "<tr><td style=\"text-align: right;\">           3</td><td style=\"text-align: right;\">    24</td><td>Returning UNC Student</td><td>No          </td><td>Biology                         </td><td>No            </td><td>MATH 130, MATH 231                               </td><td>None to less than one month!</td><td>               </td><td>      </td><td>            </td><td>            </td><td>           </td><td>         </td><td>Yes                </td><td>5 to 10 hours        </td><td>5 to 10 hours      </td><td style=\"text-align: right;\">            2</td><td style=\"text-align: right;\">          3</td><td style=\"text-align: right;\">         1</td><td style=\"text-align: right;\">          6</td><td style=\"text-align: right;\">             4</td><td style=\"text-align: right;\">          4</td><td style=\"text-align: right;\">             7</td><td style=\"text-align: right;\">               7</td><td style=\"text-align: right;\">                      7</td><td style=\"text-align: right;\">             7</td><td>7             </td><td>7                   </td><td>7               </td><td style=\"text-align: right;\">     6</td><td style=\"text-align: right;\">           6</td><td style=\"text-align: right;\">              4</td><td style=\"text-align: right;\">            5</td><td style=\"text-align: right;\">         4</td><td style=\"text-align: right;\">                7</td></tr>\n",
       "<tr><td style=\"text-align: right;\">           4</td><td style=\"text-align: right;\">    22</td><td>Returning UNC Student</td><td>No          </td><td>Biology                         </td><td>No            </td><td>MATH 129P, MATH 130, MATH 231, MATH 232, MATH 233</td><td>None to less than one month!</td><td>               </td><td>      </td><td>            </td><td>            </td><td>           </td><td>Remote   </td><td>Yes                </td><td>3 to 5 hours         </td><td>3 to 5 hours       </td><td style=\"text-align: right;\">            3</td><td style=\"text-align: right;\">          1</td><td style=\"text-align: right;\">         1</td><td style=\"text-align: right;\">          5</td><td style=\"text-align: right;\">             4</td><td style=\"text-align: right;\">          1</td><td style=\"text-align: right;\">             6</td><td style=\"text-align: right;\">               6</td><td style=\"text-align: right;\">                      7</td><td style=\"text-align: right;\">             5</td><td>              </td><td>                    </td><td>                </td><td style=\"text-align: right;\">     5</td><td style=\"text-align: right;\">           4</td><td style=\"text-align: right;\">              4</td><td style=\"text-align: right;\">            6</td><td style=\"text-align: right;\">         6</td><td style=\"text-align: right;\">                7</td></tr>\n",
       "</tbody>\n",
       "</table>"
      ],
      "text/plain": [
       "'<table>\\n<thead>\\n<tr><th style=\"text-align: right;\">  row_number</th><th style=\"text-align: right;\">  year</th><th>unc_status           </th><th>comp_major  </th><th>primary_major                   </th><th>data_science  </th><th>prereqs                                          </th><th>prior_exp                   </th><th>AP_Principles  </th><th>AP_A  </th><th>other_comp  </th><th>prior_time  </th><th>languages  </th><th>section  </th><th>in_person_classes  </th><th>hours_online_social  </th><th>hours_online_work  </th><th style=\"text-align: right;\">  lesson_time</th><th style=\"text-align: right;\">  sync_perf</th><th style=\"text-align: right;\">  all_sync</th><th style=\"text-align: right;\">  own_notes</th><th style=\"text-align: right;\">  own_examples</th><th style=\"text-align: right;\">  oh_visits</th><th style=\"text-align: right;\">  ls_effective</th><th style=\"text-align: right;\">  lsqs_effective</th><th style=\"text-align: right;\">  programming_effective</th><th style=\"text-align: right;\">  qz_effective</th><th>oh_effective  </th><th>tutoring_effective  </th><th>kaki_effective  </th><th style=\"text-align: right;\">  pace</th><th style=\"text-align: right;\">  difficulty</th><th style=\"text-align: right;\">  understanding</th><th style=\"text-align: right;\">  interesting</th><th style=\"text-align: right;\">  valuable</th><th style=\"text-align: right;\">  would_recommend</th></tr>\\n</thead>\\n<tbody>\\n<tr><td style=\"text-align: right;\">           0</td><td style=\"text-align: right;\">    23</td><td>Returning UNC Student</td><td>No          </td><td>Advertising and Public Relations</td><td>No            </td><td>MATH 129P, MATH 130                              </td><td>None to less than one month!</td><td>               </td><td>      </td><td>            </td><td>            </td><td>           </td><td>In-Person</td><td>                   </td><td>3 to 5 hours         </td><td>3 to 5 hours       </td><td style=\"text-align: right;\">            5</td><td style=\"text-align: right;\">          2</td><td style=\"text-align: right;\">         2</td><td style=\"text-align: right;\">          4</td><td style=\"text-align: right;\">             2</td><td style=\"text-align: right;\">          2</td><td style=\"text-align: right;\">             7</td><td style=\"text-align: right;\">               6</td><td style=\"text-align: right;\">                      6</td><td style=\"text-align: right;\">             5</td><td>5             </td><td>                    </td><td>3               </td><td style=\"text-align: right;\">     5</td><td style=\"text-align: right;\">           5</td><td style=\"text-align: right;\">              4</td><td style=\"text-align: right;\">            5</td><td style=\"text-align: right;\">         6</td><td style=\"text-align: right;\">                7</td></tr>\\n<tr><td style=\"text-align: right;\">           1</td><td style=\"text-align: right;\">    24</td><td>Returning UNC Student</td><td>No          </td><td>Anthropology                    </td><td>No            </td><td>MATH 129P, MATH 231                              </td><td>None to less than one month!</td><td>               </td><td>      </td><td>            </td><td>            </td><td>           </td><td>In-Person</td><td>                   </td><td>5 to 10 hours        </td><td>5 to 10 hours      </td><td style=\"text-align: right;\">            4</td><td style=\"text-align: right;\">          5</td><td style=\"text-align: right;\">         4</td><td style=\"text-align: right;\">          7</td><td style=\"text-align: right;\">             6</td><td style=\"text-align: right;\">          0</td><td style=\"text-align: right;\">             6</td><td style=\"text-align: right;\">               5</td><td style=\"text-align: right;\">                      7</td><td style=\"text-align: right;\">             5</td><td>              </td><td>                    </td><td>6               </td><td style=\"text-align: right;\">     5</td><td style=\"text-align: right;\">           3</td><td style=\"text-align: right;\">              7</td><td style=\"text-align: right;\">            7</td><td style=\"text-align: right;\">         7</td><td style=\"text-align: right;\">                7</td></tr>\\n<tr><td style=\"text-align: right;\">           2</td><td style=\"text-align: right;\">    23</td><td>Returning UNC Student</td><td>No          </td><td>Biology                         </td><td>No            </td><td>MATH 231, MATH 232, MATH 233, MATH 381           </td><td>None to less than one month!</td><td>               </td><td>      </td><td>            </td><td>            </td><td>           </td><td>Remote   </td><td>Yes                </td><td>3 to 5 hours         </td><td>5 to 10 hours      </td><td style=\"text-align: right;\">            2</td><td style=\"text-align: right;\">          1</td><td style=\"text-align: right;\">         1</td><td style=\"text-align: right;\">          7</td><td style=\"text-align: right;\">             6</td><td style=\"text-align: right;\">          0</td><td style=\"text-align: right;\">             7</td><td style=\"text-align: right;\">               7</td><td style=\"text-align: right;\">                      7</td><td style=\"text-align: right;\">             7</td><td>              </td><td>                    </td><td>                </td><td style=\"text-align: right;\">     5</td><td style=\"text-align: right;\">           5</td><td style=\"text-align: right;\">              6</td><td style=\"text-align: right;\">            7</td><td style=\"text-align: right;\">         7</td><td style=\"text-align: right;\">                7</td></tr>\\n<tr><td style=\"text-align: right;\">           3</td><td style=\"text-align: right;\">    24</td><td>Returning UNC Student</td><td>No          </td><td>Biology                         </td><td>No            </td><td>MATH 130, MATH 231                               </td><td>None to less than one month!</td><td>               </td><td>      </td><td>            </td><td>            </td><td>           </td><td>         </td><td>Yes                </td><td>5 to 10 hours        </td><td>5 to 10 hours      </td><td style=\"text-align: right;\">            2</td><td style=\"text-align: right;\">          3</td><td style=\"text-align: right;\">         1</td><td style=\"text-align: right;\">          6</td><td style=\"text-align: right;\">             4</td><td style=\"text-align: right;\">          4</td><td style=\"text-align: right;\">             7</td><td style=\"text-align: right;\">               7</td><td style=\"text-align: right;\">                      7</td><td style=\"text-align: right;\">             7</td><td>7             </td><td>7                   </td><td>7               </td><td style=\"text-align: right;\">     6</td><td style=\"text-align: right;\">           6</td><td style=\"text-align: right;\">              4</td><td style=\"text-align: right;\">            5</td><td style=\"text-align: right;\">         4</td><td style=\"text-align: right;\">                7</td></tr>\\n<tr><td style=\"text-align: right;\">           4</td><td style=\"text-align: right;\">    22</td><td>Returning UNC Student</td><td>No          </td><td>Biology                         </td><td>No            </td><td>MATH 129P, MATH 130, MATH 231, MATH 232, MATH 233</td><td>None to less than one month!</td><td>               </td><td>      </td><td>            </td><td>            </td><td>           </td><td>Remote   </td><td>Yes                </td><td>3 to 5 hours         </td><td>3 to 5 hours       </td><td style=\"text-align: right;\">            3</td><td style=\"text-align: right;\">          1</td><td style=\"text-align: right;\">         1</td><td style=\"text-align: right;\">          5</td><td style=\"text-align: right;\">             4</td><td style=\"text-align: right;\">          1</td><td style=\"text-align: right;\">             6</td><td style=\"text-align: right;\">               6</td><td style=\"text-align: right;\">                      7</td><td style=\"text-align: right;\">             5</td><td>              </td><td>                    </td><td>                </td><td style=\"text-align: right;\">     5</td><td style=\"text-align: right;\">           4</td><td style=\"text-align: right;\">              4</td><td style=\"text-align: right;\">            6</td><td style=\"text-align: right;\">         6</td><td style=\"text-align: right;\">                7</td></tr>\\n</tbody>\\n</table>'"
      ]
     },
     "execution_count": 41,
     "metadata": {},
     "output_type": "execute_result"
    }
   ],
   "source": [
    "data_cols_head: dict[str, list[str]] = head(data_cols, 5)\n",
    "\n",
    "tabulate(data_cols_head, data_cols_head.keys(), \"html\")"
   ]
  },
  {
   "cell_type": "markdown",
   "metadata": {},
   "source": [
    "In the code above, I created a table showing the first five responses so I could find what headers were the most important to look at. I settled on 'oh_visits' and 'would_recommend' as I thought it was most relevant to the hypothesis. "
   ]
  },
  {
   "cell_type": "markdown",
   "metadata": {},
   "source": [
    "## A Look Into The Hypothesis\n",
    "\n",
    "To get a feel for if my hypothesis is correct or not, I have to look at the values associated with 'oh_visits' and 'would_recommend'. Since the data set is so large, I will be looking at the first 20 rows. I will also be looking at how many responses are in each section as I am curious to see how many students have put down an answer."
   ]
  },
  {
   "cell_type": "code",
   "execution_count": 42,
   "metadata": {},
   "outputs": [
    {
     "data": {
      "text/html": [
       "<table>\n",
       "<thead>\n",
       "<tr><th style=\"text-align: right;\">  oh_visits</th><th style=\"text-align: right;\">  would_recommend</th></tr>\n",
       "</thead>\n",
       "<tbody>\n",
       "<tr><td style=\"text-align: right;\">          2</td><td style=\"text-align: right;\">                7</td></tr>\n",
       "<tr><td style=\"text-align: right;\">          0</td><td style=\"text-align: right;\">                7</td></tr>\n",
       "<tr><td style=\"text-align: right;\">          0</td><td style=\"text-align: right;\">                7</td></tr>\n",
       "<tr><td style=\"text-align: right;\">          4</td><td style=\"text-align: right;\">                7</td></tr>\n",
       "<tr><td style=\"text-align: right;\">          1</td><td style=\"text-align: right;\">                7</td></tr>\n",
       "<tr><td style=\"text-align: right;\">          1</td><td style=\"text-align: right;\">                4</td></tr>\n",
       "<tr><td style=\"text-align: right;\">          0</td><td style=\"text-align: right;\">                6</td></tr>\n",
       "<tr><td style=\"text-align: right;\">          1</td><td style=\"text-align: right;\">                4</td></tr>\n",
       "<tr><td style=\"text-align: right;\">          1</td><td style=\"text-align: right;\">                6</td></tr>\n",
       "<tr><td style=\"text-align: right;\">          2</td><td style=\"text-align: right;\">                5</td></tr>\n",
       "<tr><td style=\"text-align: right;\">          3</td><td style=\"text-align: right;\">                4</td></tr>\n",
       "<tr><td style=\"text-align: right;\">          2</td><td style=\"text-align: right;\">                4</td></tr>\n",
       "<tr><td style=\"text-align: right;\">          0</td><td style=\"text-align: right;\">                5</td></tr>\n",
       "<tr><td style=\"text-align: right;\">          3</td><td style=\"text-align: right;\">                6</td></tr>\n",
       "<tr><td style=\"text-align: right;\">          1</td><td style=\"text-align: right;\">                6</td></tr>\n",
       "<tr><td style=\"text-align: right;\">          0</td><td style=\"text-align: right;\">                6</td></tr>\n",
       "<tr><td style=\"text-align: right;\">          1</td><td style=\"text-align: right;\">                7</td></tr>\n",
       "<tr><td style=\"text-align: right;\">          2</td><td style=\"text-align: right;\">                5</td></tr>\n",
       "<tr><td style=\"text-align: right;\">          1</td><td style=\"text-align: right;\">                1</td></tr>\n",
       "<tr><td style=\"text-align: right;\">          2</td><td style=\"text-align: right;\">                3</td></tr>\n",
       "</tbody>\n",
       "</table>"
      ],
      "text/plain": [
       "'<table>\\n<thead>\\n<tr><th style=\"text-align: right;\">  oh_visits</th><th style=\"text-align: right;\">  would_recommend</th></tr>\\n</thead>\\n<tbody>\\n<tr><td style=\"text-align: right;\">          2</td><td style=\"text-align: right;\">                7</td></tr>\\n<tr><td style=\"text-align: right;\">          0</td><td style=\"text-align: right;\">                7</td></tr>\\n<tr><td style=\"text-align: right;\">          0</td><td style=\"text-align: right;\">                7</td></tr>\\n<tr><td style=\"text-align: right;\">          4</td><td style=\"text-align: right;\">                7</td></tr>\\n<tr><td style=\"text-align: right;\">          1</td><td style=\"text-align: right;\">                7</td></tr>\\n<tr><td style=\"text-align: right;\">          1</td><td style=\"text-align: right;\">                4</td></tr>\\n<tr><td style=\"text-align: right;\">          0</td><td style=\"text-align: right;\">                6</td></tr>\\n<tr><td style=\"text-align: right;\">          1</td><td style=\"text-align: right;\">                4</td></tr>\\n<tr><td style=\"text-align: right;\">          1</td><td style=\"text-align: right;\">                6</td></tr>\\n<tr><td style=\"text-align: right;\">          2</td><td style=\"text-align: right;\">                5</td></tr>\\n<tr><td style=\"text-align: right;\">          3</td><td style=\"text-align: right;\">                4</td></tr>\\n<tr><td style=\"text-align: right;\">          2</td><td style=\"text-align: right;\">                4</td></tr>\\n<tr><td style=\"text-align: right;\">          0</td><td style=\"text-align: right;\">                5</td></tr>\\n<tr><td style=\"text-align: right;\">          3</td><td style=\"text-align: right;\">                6</td></tr>\\n<tr><td style=\"text-align: right;\">          1</td><td style=\"text-align: right;\">                6</td></tr>\\n<tr><td style=\"text-align: right;\">          0</td><td style=\"text-align: right;\">                6</td></tr>\\n<tr><td style=\"text-align: right;\">          1</td><td style=\"text-align: right;\">                7</td></tr>\\n<tr><td style=\"text-align: right;\">          2</td><td style=\"text-align: right;\">                5</td></tr>\\n<tr><td style=\"text-align: right;\">          1</td><td style=\"text-align: right;\">                1</td></tr>\\n<tr><td style=\"text-align: right;\">          2</td><td style=\"text-align: right;\">                3</td></tr>\\n</tbody>\\n</table>'"
      ]
     },
     "execution_count": 42,
     "metadata": {},
     "output_type": "execute_result"
    }
   ],
   "source": [
    "from data_utils import head\n",
    "from data_utils import select\n",
    "from tabulate import tabulate\n",
    "\n",
    "selected_data: dict[str, list[str]] = select(data_cols, [\"oh_visits\", \"would_recommend\"])\n",
    "\n",
    "tabulate(head(selected_data, 20), selected_data.keys(), \"html\")\n"
   ]
  },
  {
   "cell_type": "markdown",
   "metadata": {},
   "source": [
    "In the code cell above, I used both the head and select functions to find the first 20 responses for 'oh_visits' and 'would_recommend'. Based on the the responses, it is hard to tell if there is an association between students going to office hours and students recommending the class. "
   ]
  },
  {
   "cell_type": "code",
   "execution_count": 43,
   "metadata": {},
   "outputs": [
    {
     "name": "stdout",
     "output_type": "stream",
     "text": [
      "Break down of students responses on how often they visit office hours: {'2': 117, '0': 185, '4': 19, '1': 185, '3': 44, '5': 23}\n",
      "Break down of student responses on if they recommend the course: {'7': 197, '4': 88, '6': 134, '5': 92, '1': 12, '3': 34, '2': 16}\n"
     ]
    }
   ],
   "source": [
    "from data_utils import count\n",
    "\n",
    "oh_counts: dict[str, int] = count(selected_data[\"oh_visits\"])\n",
    "print(f\"Break down of students responses on how often they visit office hours: {oh_counts}\")\n",
    "\n",
    "recommend_counts: dict[str, int] = count(selected_data[\"would_recommend\"])\n",
    "print(f\"Break down of student responses on if they recommend the course: {recommend_counts}\")"
   ]
  },
  {
   "cell_type": "markdown",
   "metadata": {},
   "source": [
    "The code cell above shows us the breakdown of each response which will is helpful, but for now we need to find the total of all the responses in 'oh_visits' and 'would_recommend'. We could count all the numbers up but it would be more effective to create a helper function. "
   ]
  },
  {
   "cell_type": "code",
   "execution_count": 44,
   "metadata": {},
   "outputs": [
    {
     "name": "stdout",
     "output_type": "stream",
     "text": [
      "Total number of students who responsed to how often they visit office hours: 573\n",
      "Total number of students who responded to if they would recommend the course: 573\n"
     ]
    }
   ],
   "source": [
    "oh_counts: dict[str, int] = count(selected_data[\"oh_visits\"])\n",
    "recommend_counts: dict[str, int] = count(selected_data[\"would_recommend\"])\n",
    "\n",
    "def sum (data: dict[str, int]) -> int:\n",
    "    \"\"\"Adds up all the responses in a column oriented dictionary.\"\"\"\n",
    "    result: int = 0\n",
    "    for value in data:\n",
    "        result += data[value]\n",
    "    return result\n",
    "    \n",
    "oh: int = sum(oh_counts)\n",
    "rec: int = sum(recommend_counts)\n",
    "print(f\"Total number of students who responsed to how often they visit office hours: {oh}\")\n",
    "print(f\"Total number of students who responded to if they would recommend the course: {rec}\")"
   ]
  },
  {
   "cell_type": "markdown",
   "metadata": {},
   "source": [
    "With the helper function we were able to find the total number of students who responded. It is good that both of the values yield the same result (573 responses). This means that the data for both variables is the same size and it is much easier to work with data that is the same size. "
   ]
  },
  {
   "cell_type": "code",
   "execution_count": 45,
   "metadata": {},
   "outputs": [
    {
     "name": "stdout",
     "output_type": "stream",
     "text": [
      "Total number of students who visit office hours the most (response 3 to 5): 86\n",
      "Total number of students who recommend the course the most (response 5 to 7): 423\n"
     ]
    }
   ],
   "source": [
    "def oh_often(data: dict[str, int]) -> int:\n",
    "    result: int = 0\n",
    "    for value in data:\n",
    "        if value == '5':\n",
    "            result += data[value]\n",
    "        if value == '4':\n",
    "            result += data[value]\n",
    "        if value == '3':\n",
    "            result += data[value]\n",
    "        if value == '2':\n",
    "            result \n",
    "        if value == '1':\n",
    "            result \n",
    "        if value == '0':\n",
    "            result\n",
    "    return result \n",
    "\n",
    "def most_rec(data: dict[str, int]) -> int:\n",
    "    result: int = 0\n",
    "    for value in data:\n",
    "        if value == '7':\n",
    "            result += data[value]\n",
    "        if value == '6':\n",
    "            result += data[value]\n",
    "        if value == '5':\n",
    "            result += data[value]\n",
    "        if value == '4':\n",
    "            result \n",
    "        if value == '3':\n",
    "            result \n",
    "        if value == '2':\n",
    "            result\n",
    "        if value == '1':\n",
    "            result\n",
    "        if value == '0':\n",
    "            result\n",
    "    return result \n",
    "\n",
    "print(f\"Total number of students who visit office hours the most (response 3 to 5): {oh_often(oh_counts)}\")\n",
    "print(f\"Total number of students who recommend the course the most (response 5 to 7): {most_rec(recommend_counts)}\")"
   ]
  },
  {
   "cell_type": "markdown",
   "metadata": {},
   "source": [
    "With the helper function above, I wanted to compare the number of students who recommend the course (response 5 to 7) with students who visit office hours the most (response 3 to 5). From the results you can see that most of the students who recommend the course the most actually do not attend office hours frequently. "
   ]
  },
  {
   "cell_type": "code",
   "execution_count": 46,
   "metadata": {},
   "outputs": [
    {
     "name": "stdout",
     "output_type": "stream",
     "text": [
      "Total number of students who visit office hours (response 1 to 5): 388\n",
      "Total number of students who recommend the course the most (response 5 to 7): 423\n"
     ]
    }
   ],
   "source": [
    "def oh_often1(data: dict[str, int]) -> int:\n",
    "    result: int = 0\n",
    "    for value in data:\n",
    "        if value == '5':\n",
    "            result += data[value]\n",
    "        if value == '4':\n",
    "            result += data[value]\n",
    "        if value == '3':\n",
    "            result += data[value]\n",
    "        if value == '2':\n",
    "            result += data[value]\n",
    "        if value == '1':\n",
    "            result += data[value]\n",
    "        if value == '0':\n",
    "            result\n",
    "    return result \n",
    "\n",
    "def most_rec1(data: dict[str, int]) -> int:\n",
    "    result: int = 0\n",
    "    for value in data:\n",
    "        if value == '7':\n",
    "            result += data[value]\n",
    "        if value == '6':\n",
    "            result += data[value]\n",
    "        if value == '5':\n",
    "            result += data[value]\n",
    "        if value == '4':\n",
    "            result \n",
    "        if value == '3':\n",
    "            result \n",
    "        if value == '2':\n",
    "            result\n",
    "        if value == '1':\n",
    "            result\n",
    "        if value == '0':\n",
    "            result\n",
    "    return result \n",
    "\n",
    "print(f\"Total number of students who visit office hours (response 1 to 5): {oh_often1(oh_counts)}\")\n",
    "print(f\"Total number of students who recommend the course the most (response 5 to 7): {most_rec1(recommend_counts)}\")"
   ]
  },
  {
   "cell_type": "markdown",
   "metadata": {},
   "source": [
    "With the helper function above, I wanted to compare the number of students who recommend the course (response 5 to 7) with students who visit office hours in general (response 1 to 5). From the results you can see that the number of students who attend office hours in general is close to the number of students who recommend the course. There is difference of 35 between the two numbers. These results mean that students who visit office hours in general may be more likely to recommend the course."
   ]
  },
  {
   "cell_type": "markdown",
   "metadata": {},
   "source": [
    "# Conclusion \n",
    "My hypothesis was correct, that students who visit office hours in general are more likely to recommend the course. It is interesting though to see that many students actually do not attend a large number of office hours but many students do attend office hours one or twice. This may be why many of these students recommend the class as they find office hours accessible and helpful but the class is not too difficult for them to go to office hours multiple times. But based on the results I have calculated, casuation is only implied, the results do not mean that students who go to office hours WILL recommend the class. It only implies that there is some relation between the two variables. "
   ]
  }
 ],
 "metadata": {
  "interpreter": {
   "hash": "2056f9f48b33e722546b88736ad4923a1c391dea2ae5a89dec745098745dfd8d"
  },
  "kernelspec": {
   "display_name": "Python 3.9.6 64-bit",
   "language": "python",
   "name": "python3"
  },
  "language_info": {
   "codemirror_mode": {
    "name": "ipython",
    "version": 3
   },
   "file_extension": ".py",
   "mimetype": "text/x-python",
   "name": "python",
   "nbconvert_exporter": "python",
   "pygments_lexer": "ipython3",
   "version": "3.9.6"
  },
  "orig_nbformat": 4
 },
 "nbformat": 4,
 "nbformat_minor": 2
}
